{
 "cells": [
  {
   "cell_type": "markdown",
   "metadata": {},
   "source": [
    "# The Effect of Government Stringency on the Rate of Reproduction"
   ]
  },
  {
   "cell_type": "code",
   "execution_count": 1,
   "metadata": {},
   "outputs": [],
   "source": [
    "import csv\n",
    "import numpy as np\n",
    "import matplotlib.pyplot as plt\n",
    "from datetime import datetime\n",
    "from datetime import timedelta\n",
    "from scipy.stats import t, probplot\n",
    "import country_converter as coco"
   ]
  },
  {
   "cell_type": "markdown",
   "metadata": {},
   "source": [
    "### Selecting the top 20 most developed countries to account for confounding"
   ]
  },
  {
   "cell_type": "code",
   "execution_count": 2,
   "metadata": {},
   "outputs": [],
   "source": [
    "with open('csv/human-development-index.csv', 'r') as f:\n",
    "    c = csv.reader(f)\n",
    "    next(c)\n",
    "    hdi = []\n",
    "    for country, code, year, idx in c:\n",
    "        if code == 'HKG':\n",
    "            continue\n",
    "        if int(year) == 2017:\n",
    "            hdi.append([code, float(idx)])\n",
    "    \n",
    "hdi = sorted(hdi, key=lambda x:x[1], reverse=True)\n",
    "hdi_top = [i[0] for i in hdi[:20]]"
   ]
  },
  {
   "cell_type": "code",
   "execution_count": 3,
   "metadata": {},
   "outputs": [
    {
     "name": "stdout",
     "output_type": "stream",
     "text": [
      "NOR\n",
      "CHE\n",
      "AUS\n",
      "IRL\n",
      "DEU\n",
      "ISL\n",
      "SWE\n",
      "SGP\n",
      "NLD\n",
      "DNK\n",
      "CAN\n",
      "USA\n",
      "GBR\n",
      "FIN\n",
      "NZL\n",
      "BEL\n",
      "LIE\n",
      "JPN\n",
      "AUT\n",
      "LUX\n"
     ]
    }
   ],
   "source": [
    "print(*hdi_top, sep='\\n')"
   ]
  },
  {
   "cell_type": "markdown",
   "metadata": {},
   "source": [
    "### Creating dictionary of stringency and dates for selected countries"
   ]
  },
  {
   "cell_type": "code",
   "execution_count": 4,
   "metadata": {},
   "outputs": [],
   "source": [
    "d = {}\n",
    "# key: country\n",
    "# value: [date, stringency]\n",
    "# earliest 1/22/20; latest 5/8/21\n",
    "\n",
    "with open('csv/covid-stringency-index.csv', 'r') as f:\n",
    "    c = csv.reader(f) \n",
    "    next(c)\n",
    "    for r in c:\n",
    "        if r[1] in hdi_top and r[2] != \"2020-01-21\": \n",
    "            s = [datetime.strptime(r[2], '%Y-%m-%d'), float(r[3])]\n",
    "            try:\n",
    "                d[r[1]].append(s)\n",
    "            except:\n",
    "                d[r[1]] = [s]"
   ]
  },
  {
   "cell_type": "code",
   "execution_count": 5,
   "metadata": {
    "scrolled": true
   },
   "outputs": [
    {
     "name": "stdout",
     "output_type": "stream",
     "text": [
      "[datetime.datetime(2020, 1, 22, 0, 0), 0.0]\n",
      "[datetime.datetime(2020, 1, 23, 0, 0), 0.0]\n",
      "[datetime.datetime(2020, 1, 24, 0, 0), 0.0]\n",
      "[datetime.datetime(2020, 1, 25, 0, 0), 0.0]\n",
      "[datetime.datetime(2020, 1, 26, 0, 0), 0.0]\n",
      "[datetime.datetime(2020, 1, 27, 0, 0), 0.0]\n",
      "[datetime.datetime(2020, 1, 28, 0, 0), 0.0]\n",
      "[datetime.datetime(2020, 1, 29, 0, 0), 0.0]\n",
      "[datetime.datetime(2020, 1, 30, 0, 0), 0.0]\n",
      "[datetime.datetime(2020, 1, 31, 0, 0), 0.0]\n",
      "\n",
      "[datetime.datetime(2021, 4, 29, 0, 0), 56.94]\n",
      "[datetime.datetime(2021, 4, 30, 0, 0), 56.94]\n",
      "[datetime.datetime(2021, 5, 1, 0, 0), 56.94]\n",
      "[datetime.datetime(2021, 5, 2, 0, 0), 56.94]\n",
      "[datetime.datetime(2021, 5, 3, 0, 0), 56.94]\n",
      "[datetime.datetime(2021, 5, 4, 0, 0), 56.94]\n",
      "[datetime.datetime(2021, 5, 5, 0, 0), 56.94]\n",
      "[datetime.datetime(2021, 5, 6, 0, 0), 56.94]\n",
      "[datetime.datetime(2021, 5, 7, 0, 0), 56.94]\n",
      "[datetime.datetime(2021, 5, 8, 0, 0), 56.94]\n"
     ]
    }
   ],
   "source": [
    "usa = d['USA']\n",
    "print(*usa[:10], sep='\\n')\n",
    "print()\n",
    "print(*usa[-10:], sep='\\n') "
   ]
  },
  {
   "cell_type": "code",
   "execution_count": 6,
   "metadata": {},
   "outputs": [
    {
     "name": "stdout",
     "output_type": "stream",
     "text": [
      "AUS\n",
      "AUT\n",
      "BEL\n",
      "CAN\n",
      "DNK\n",
      "FIN\n",
      "DEU\n",
      "ISL\n",
      "IRL\n",
      "JPN\n",
      "LIE\n",
      "LUX\n",
      "NLD\n",
      "NZL\n",
      "NOR\n",
      "SGP\n",
      "SWE\n",
      "CHE\n",
      "GBR\n",
      "USA\n"
     ]
    }
   ],
   "source": [
    "print(*d.keys(), sep='\\n')"
   ]
  },
  {
   "cell_type": "markdown",
   "metadata": {},
   "source": [
    "### Creating a dictionary of all changes in stringency for selected countries"
   ]
  },
  {
   "cell_type": "code",
   "execution_count": 7,
   "metadata": {},
   "outputs": [],
   "source": [
    "changes = {}\n",
    "# key: country\n",
    "# value: [start date, end date, initial stringency, final stringency]\n",
    "# one value for each change in stringency\n",
    "\n",
    "countries = d.keys()\n",
    "for country_name in countries:\n",
    "    country = d[country_name]\n",
    "    last_date = country[0][0]\n",
    "    last_stringency = country[0][1]\n",
    "    for date, stringency in country:\n",
    "        if stringency != last_stringency:\n",
    "            delta = [last_date, date, last_stringency, stringency]\n",
    "            try:\n",
    "                changes[country_name].append(delta)\n",
    "            except:\n",
    "                changes[country_name] = [delta]\n",
    "            last_date = date\n",
    "            last_stringency = stringency"
   ]
  },
  {
   "cell_type": "code",
   "execution_count": 8,
   "metadata": {
    "scrolled": true
   },
   "outputs": [
    {
     "name": "stdout",
     "output_type": "stream",
     "text": [
      "5.56\n",
      "8.33\n",
      "11.11\n",
      "20.37\n",
      "21.76\n",
      "30.09\n",
      "35.65\n",
      "41.2\n",
      "52.31\n",
      "55.09\n",
      "67.13\n",
      "72.69\n",
      "68.98\n",
      "67.13\n",
      "62.5\n",
      "66.2\n",
      "62.5\n",
      "65.28\n",
      "75.46\n",
      "71.76\n",
      "68.06\n",
      "64.35\n",
      "66.2\n",
      "61.57\n",
      "58.8\n",
      "56.94\n"
     ]
    }
   ],
   "source": [
    "print(*[i[-1] for i in changes['USA']], sep='\\n')"
   ]
  },
  {
   "cell_type": "code",
   "execution_count": 9,
   "metadata": {
    "scrolled": true
   },
   "outputs": [
    {
     "name": "stdout",
     "output_type": "stream",
     "text": [
      "AUS 54 [datetime.datetime(2020, 1, 22, 0, 0), datetime.datetime(2020, 1, 25, 0, 0), 0.0, 11.11]\n",
      "AUT 34 [datetime.datetime(2020, 1, 22, 0, 0), datetime.datetime(2020, 2, 24, 0, 0), 0.0, 11.11]\n",
      "BEL 30 [datetime.datetime(2020, 1, 22, 0, 0), datetime.datetime(2020, 1, 28, 0, 0), 0.0, 5.56]\n",
      "CAN 21 [datetime.datetime(2020, 1, 22, 0, 0), datetime.datetime(2020, 3, 11, 0, 0), 2.78, 13.89]\n",
      "DNK 31 [datetime.datetime(2020, 1, 22, 0, 0), datetime.datetime(2020, 2, 27, 0, 0), 0.0, 11.11]\n",
      "FIN 22 [datetime.datetime(2020, 1, 22, 0, 0), datetime.datetime(2020, 1, 27, 0, 0), 0.0, 5.56]\n",
      "DEU 38 [datetime.datetime(2020, 1, 22, 0, 0), datetime.datetime(2020, 1, 24, 0, 0), 0.0, 5.56]\n",
      "ISL 19 [datetime.datetime(2020, 1, 22, 0, 0), datetime.datetime(2020, 1, 23, 0, 0), 0.0, 11.11]\n",
      "IRL 28 [datetime.datetime(2020, 1, 22, 0, 0), datetime.datetime(2020, 2, 4, 0, 0), 0.0, 5.56]\n",
      "JPN 30 [datetime.datetime(2020, 1, 22, 0, 0), datetime.datetime(2020, 2, 1, 0, 0), 2.78, 8.33]\n",
      "LIE 8 [datetime.datetime(2020, 1, 22, 0, 0), datetime.datetime(2020, 2, 28, 0, 0), 0.0, 13.89]\n",
      "LUX 26 [datetime.datetime(2020, 1, 22, 0, 0), datetime.datetime(2020, 3, 5, 0, 0), 0.0, 11.11]\n",
      "NLD 23 [datetime.datetime(2020, 1, 22, 0, 0), datetime.datetime(2020, 2, 27, 0, 0), 0.0, 5.56]\n",
      "NZL 26 [datetime.datetime(2020, 1, 22, 0, 0), datetime.datetime(2020, 2, 2, 0, 0), 11.11, 19.44]\n",
      "NOR 33 [datetime.datetime(2020, 1, 22, 0, 0), datetime.datetime(2020, 1, 31, 0, 0), 0.0, 11.11]\n",
      "SGP 14 [datetime.datetime(2020, 1, 22, 0, 0), datetime.datetime(2020, 1, 23, 0, 0), 19.44, 25.0]\n",
      "SWE 15 [datetime.datetime(2020, 1, 22, 0, 0), datetime.datetime(2020, 3, 9, 0, 0), 0.0, 11.11]\n",
      "CHE 23 [datetime.datetime(2020, 1, 22, 0, 0), datetime.datetime(2020, 2, 25, 0, 0), 0.0, 8.33]\n",
      "GBR 47 [datetime.datetime(2020, 1, 22, 0, 0), datetime.datetime(2020, 1, 31, 0, 0), 5.56, 8.33]\n",
      "USA 26 [datetime.datetime(2020, 1, 22, 0, 0), datetime.datetime(2020, 2, 2, 0, 0), 0.0, 5.56]\n",
      "TOTAL:  548\n"
     ]
    }
   ],
   "source": [
    "length = 0\n",
    "for i in d.keys():\n",
    "    print(i, len(changes[i]), changes[i][0])\n",
    "    length += len(changes[i])\n",
    "print(\"TOTAL: \", length)"
   ]
  },
  {
   "cell_type": "markdown",
   "metadata": {},
   "source": [
    "### Finding deaths, confirmed cases, recovered for selected countries"
   ]
  },
  {
   "cell_type": "code",
   "execution_count": 10,
   "metadata": {},
   "outputs": [],
   "source": [
    "def toIso3(country):\n",
    "    return coco.convert(names=[country], to='iso3')"
   ]
  },
  {
   "cell_type": "code",
   "execution_count": 11,
   "metadata": {},
   "outputs": [],
   "source": [
    "# key: country\n",
    "# value: [date, metric]\n",
    "def proc(file):\n",
    "    with open(file, 'r') as f:\n",
    "        c = csv.reader(f)\n",
    "        next(c)\n",
    "        d = {}\n",
    "        for i in c:\n",
    "            if i[1] == 'Diamond Princess' or i[1] == 'MS Zaandam':\n",
    "                continue\n",
    "            iso = toIso3(i[1])\n",
    "            if iso in hdi_top:\n",
    "                try:\n",
    "                    for j in range(len(d[iso])):\n",
    "                        d[iso][j][1] += int(i[j+4])\n",
    "                except:\n",
    "                    d[iso] = []\n",
    "                    for j in range(len(i[4:])):\n",
    "#                         if datetime(2020, 1, 22) + timedelta(days=j) > datetime(2021, 5, 8):\n",
    "#                             break\n",
    "                        d[iso].append([datetime(2020, 1, 22) + timedelta(days=j), int(i[j+4])])\n",
    "    return d"
   ]
  },
  {
   "cell_type": "code",
   "execution_count": 12,
   "metadata": {},
   "outputs": [],
   "source": [
    "confirmed = proc('csv/time_series_covid19_confirmed_global.csv')\n",
    "deaths = proc('csv/time_series_covid19_deaths_global.csv')\n",
    "recovered = proc('csv/time_series_covid19_recovered_global.csv')"
   ]
  },
  {
   "cell_type": "code",
   "execution_count": 13,
   "metadata": {},
   "outputs": [
    {
     "name": "stdout",
     "output_type": "stream",
     "text": [
      "20 20 20\n"
     ]
    }
   ],
   "source": [
    "print(len(confirmed), len(deaths), len(recovered))"
   ]
  },
  {
   "cell_type": "code",
   "execution_count": 14,
   "metadata": {},
   "outputs": [
    {
     "name": "stdout",
     "output_type": "stream",
     "text": [
      "[datetime.datetime(2021, 5, 10, 0, 0), 0]\n",
      "[datetime.datetime(2021, 5, 11, 0, 0), 0]\n",
      "[datetime.datetime(2021, 5, 12, 0, 0), 0]\n",
      "[datetime.datetime(2021, 5, 13, 0, 0), 0]\n",
      "[datetime.datetime(2021, 5, 14, 0, 0), 0]\n"
     ]
    }
   ],
   "source": [
    "print(*recovered['USA'][-5:], sep='\\n')"
   ]
  },
  {
   "cell_type": "markdown",
   "metadata": {},
   "source": [
    "### Creating a dictionary of times to check for response after stringency change"
   ]
  },
  {
   "cell_type": "code",
   "execution_count": 15,
   "metadata": {},
   "outputs": [
    {
     "name": "stdout",
     "output_type": "stream",
     "text": [
      "[datetime.datetime(2021, 2, 3, 0, 0), datetime.datetime(2021, 3, 4, 0, 0), 68.06, 64.35]\n",
      "[datetime.datetime(2021, 3, 4, 0, 0), datetime.datetime(2021, 3, 22, 0, 0), 64.35, 66.2]\n",
      "[datetime.datetime(2021, 3, 22, 0, 0), datetime.datetime(2021, 3, 23, 0, 0), 66.2, 61.57]\n",
      "[datetime.datetime(2021, 3, 23, 0, 0), datetime.datetime(2021, 3, 29, 0, 0), 61.57, 58.8]\n",
      "[datetime.datetime(2021, 3, 29, 0, 0), datetime.datetime(2021, 3, 30, 0, 0), 58.8, 56.94]\n",
      "54\n"
     ]
    }
   ],
   "source": [
    "print(*changes['USA'][-5:], sep='\\n')\n",
    "print(len(changes['AUS']))"
   ]
  },
  {
   "cell_type": "code",
   "execution_count": 16,
   "metadata": {},
   "outputs": [],
   "source": [
    "def response(iso, react):\n",
    "    pairs = []\n",
    "    for indte, fidte, instr, fistr in changes[iso]:\n",
    "        d_str = fistr - instr\n",
    "        d_day = (indte - datetime(2020, 1, 22)).days + react\n",
    "        if d_day >= len(deaths[iso]):\n",
    "            break\n",
    "        d_deaths = deaths[iso][d_day][1] - deaths[iso][d_day-react][1] \n",
    "        d_confirmed = confirmed[iso][d_day][1] - confirmed[iso][d_day-react][1] \n",
    "        d_recovered = recovered[iso][d_day][1] - recovered[iso][d_day-react][1] \n",
    "        pairs.append([d_str, (d_deaths + d_confirmed - d_recovered)])\n",
    "    return pairs"
   ]
  },
  {
   "cell_type": "code",
   "execution_count": 17,
   "metadata": {},
   "outputs": [],
   "source": [
    "final_data = {}\n",
    "for i in hdi_top:\n",
    "    final_data[i] = response(i, 21)"
   ]
  },
  {
   "cell_type": "code",
   "execution_count": 18,
   "metadata": {},
   "outputs": [
    {
     "name": "stdout",
     "output_type": "stream",
     "text": [
      "NOR 32 [-2.780000000000001, 9150]\n",
      "CHE 23 [-9.259999999999998, 54118]\n",
      "AUS 51 [36.10999999999999, 95]\n",
      "IRL 28 [-3.700000000000003, 11115]\n",
      "DEU 38 [-2.780000000000001, 50724]\n",
      "ISL 19 [2.780000000000001, 74]\n",
      "SWE 15 [-3.700000000000003, 118494]\n",
      "SGP 14 [1.8500000000000014, -12]\n",
      "NLD 22 [-3.700000000000003, 121996]\n",
      "DNK 31 [-2.779999999999994, 2372]\n",
      "CAN 21 [3.6999999999999886, 23269]\n",
      "USA 26 [-1.8599999999999994, 1421520]\n",
      "GBR 47 [-1.3900000000000006, 48584]\n",
      "FIN 22 [3.700000000000003, 241]\n",
      "NZL 26 [-14.350000000000001, 8]\n",
      "BEL 30 [-5.559999999999995, 67051]\n",
      "LIE 8 [8.339999999999996, 0]\n",
      "JPN 30 [3.700000000000003, 34100]\n",
      "AUT 33 [-1.8500000000000085, -8903]\n",
      "LUX 26 [-7.410000000000004, 477]\n",
      "TOTAL:  542\n"
     ]
    }
   ],
   "source": [
    "length = 0\n",
    "for i in final_data.keys():\n",
    "    print(i, len(final_data[i]), final_data[i][-1])\n",
    "    length += len(final_data[i])\n",
    "print(\"TOTAL: \", length)"
   ]
  },
  {
   "cell_type": "code",
   "execution_count": 19,
   "metadata": {},
   "outputs": [],
   "source": [
    "xlist = []\n",
    "ylist = []\n",
    "for i in hdi_top:\n",
    "    for x, y in final_data[i]:\n",
    "#         xlist.append(x)\n",
    "        xlist.append(np.sign(x)*np.log(abs(x)+10**(-100)))\n",
    "#         ylist.append(y)\n",
    "        ylist.append(np.sign(y)*np.log(abs(y)+10**(-100)))"
   ]
  },
  {
   "cell_type": "code",
   "execution_count": 20,
   "metadata": {},
   "outputs": [],
   "source": [
    "# plt.scatter(xlist, ylist)\n",
    "# # plt.ylim(-2*10**4, 2*10**5)\n",
    "# plt.show()"
   ]
  },
  {
   "cell_type": "code",
   "execution_count": 21,
   "metadata": {},
   "outputs": [
    {
     "data": {
      "text/plain": [
       "542"
      ]
     },
     "execution_count": 21,
     "metadata": {},
     "output_type": "execute_result"
    }
   ],
   "source": [
    "len(xlist)"
   ]
  },
  {
   "cell_type": "code",
   "execution_count": 22,
   "metadata": {},
   "outputs": [],
   "source": [
    "x_np_list = np.array(xlist)\n",
    "y_np_list = np.array(ylist)\n",
    "\n",
    "std_x = np.std(x_np_list)\n",
    "std_y = np.std(y_np_list)\n",
    "bar_x = np.mean(x_np_list)\n",
    "bar_y = np.mean(y_np_list)\n",
    "\n",
    "a = (np.sum((x_np_list - bar_x) * (y_np_list - bar_y))) / np.sum((x_np_list - bar_x)**2)\n",
    "b = bar_y - (a * bar_x)\n",
    "r = a * std_x / std_y"
   ]
  },
  {
   "cell_type": "code",
   "execution_count": 23,
   "metadata": {},
   "outputs": [
    {
     "name": "stdout",
     "output_type": "stream",
     "text": [
      "0.9064349690452193 5.070506597119449\n",
      "1.7667751184637743 0.4101944148534562\n",
      "6.538458663755428 5.442321158849663\n",
      "0.24493031648146213\n",
      "0.059990859931709196\n"
     ]
    }
   ],
   "source": [
    "print(a, b)\n",
    "print(std_x, bar_x)\n",
    "print(std_y, bar_y)\n",
    "print(r)\n",
    "print(r**2)"
   ]
  },
  {
   "cell_type": "code",
   "execution_count": 24,
   "metadata": {},
   "outputs": [
    {
     "data": {
      "image/png": "[encoded data removed]",
      "text/plain": [
       "<Figure size 576x396 with 1 Axes>"
      ]
     },
     "metadata": {},
     "output_type": "display_data"
    }
   ],
   "source": [
    "plt.style.use(\"seaborn\")\n",
    "plt.title('Log of Difference Stringency Index vs. Log of Difference in Net Effects', fontsize=11, fontweight='bold')\n",
    "plt.xlabel('Log of Difference in Stringency Index for Two Points in Time (Final - Initial)', fontsize=11)\n",
    "plt.ylabel('Log of Difference in Net Effects (Final - Initial)', fontsize=11)\n",
    "plt.scatter(x_np_list, y_np_list, s=10)\n",
    "plt.plot(np.linspace(-10, 10, 100), [a*i + b for i in np.linspace(-10, 10, 100)])\n",
    "plt.ylim(min(y_np_list), max(y_np_list))\n",
    "plt.xlim(min(x_np_list), max(x_np_list))\n",
    "plt.savefig('png/e.png')\n",
    "plt.show()"
   ]
  },
  {
   "cell_type": "code",
   "execution_count": 25,
   "metadata": {},
   "outputs": [],
   "source": [
    "yhat = a*x_np_list+b\n",
    "sse = (np.sum((y_np_list - yhat)**2)/(len(x_np_list)-2))**0.5"
   ]
  },
  {
   "cell_type": "code",
   "execution_count": 32,
   "metadata": {},
   "outputs": [
    {
     "name": "stdout",
     "output_type": "stream",
     "text": [
      "6.351030290171824\n"
     ]
    }
   ],
   "source": [
    "print(sse)"
   ]
  },
  {
   "cell_type": "code",
   "execution_count": 33,
   "metadata": {},
   "outputs": [],
   "source": [
    "t_stat = 0.975 * a/sse"
   ]
  },
  {
   "cell_type": "code",
   "execution_count": 35,
   "metadata": {},
   "outputs": [
    {
     "name": "stdout",
     "output_type": "stream",
     "text": [
      "0.1391544449389138\n"
     ]
    }
   ],
   "source": [
    "print(t_stat)"
   ]
  },
  {
   "cell_type": "code",
   "execution_count": 34,
   "metadata": {},
   "outputs": [
    {
     "data": {
      "text/plain": [
       "0.44468999326807457"
      ]
     },
     "execution_count": 34,
     "metadata": {},
     "output_type": "execute_result"
    }
   ],
   "source": [
    "t.sf(t_stat, len(xlist)-2)"
   ]
  },
  {
   "cell_type": "code",
   "execution_count": 28,
   "metadata": {},
   "outputs": [
    {
     "data": {
      "image/png": "[encoded data removed]",
      "text/plain": [
       "<Figure size 576x396 with 1 Axes>"
      ]
     },
     "metadata": {},
     "output_type": "display_data"
    }
   ],
   "source": [
    "plt.style.use(\"seaborn\")\n",
    "plt.title('Log of Difference Stringency Index vs. Residuals of Net Effects', fontsize=11, fontweight='bold')\n",
    "plt.xlabel('Log of Difference in Stringency Index for Two Points in Time', fontsize=11)\n",
    "plt.ylabel('Residuals of Difference in Net Effects', fontsize=11)\n",
    "plt.scatter(x_np_list, y_np_list-yhat, s=10)\n",
    "# plt.plot(np.linspace(-10, 10, 100), [a*i + b for i in np.linspace(-10, 10, 100)])\n",
    "plt.ylim(min(y_np_list-yhat), max(y_np_list-yhat))\n",
    "plt.xlim(min(x_np_list), max(x_np_list))\n",
    "plt.savefig('png/f.png')\n",
    "plt.show()"
   ]
  },
  {
   "cell_type": "code",
   "execution_count": 29,
   "metadata": {},
   "outputs": [
    {
     "data": {
      "image/png": "[encoded data removed]",
      "text/plain": [
       "<Figure size 576x396 with 1 Axes>"
      ]
     },
     "metadata": {},
     "output_type": "display_data"
    }
   ],
   "source": [
    "probplot(ylist-yhat, plot=plt)\n",
    "plt.style.use(\"seaborn\")\n",
    "plt.title('Normal Probability Plot for Residuals')\n",
    "plt.ylabel('Residuals of Difference in Net Effects')\n",
    "plt.xlabel('Expected Z Score')\n",
    "plt.savefig('png/g.png')\n",
    "plt.show()"
   ]
  },
  {
   "cell_type": "code",
   "execution_count": 30,
   "metadata": {},
   "outputs": [
    {
     "data": {
      "text/plain": [
       "6.625584715276396"
      ]
     },
     "execution_count": 30,
     "metadata": {},
     "output_type": "execute_result"
    }
   ],
   "source": [
    "(a*xlist[4]+b)"
   ]
  },
  {
   "cell_type": "code",
   "execution_count": 31,
   "metadata": {},
   "outputs": [
    {
     "data": {
      "text/plain": [
       "6.625584715276396"
      ]
     },
     "execution_count": 31,
     "metadata": {},
     "output_type": "execute_result"
    }
   ],
   "source": [
    "yhat[4]"
   ]
  },
  {
   "cell_type": "code",
   "execution_count": null,
   "metadata": {},
   "outputs": [],
   "source": []
  }
 ],
 "metadata": {
  "kernelspec": {
   "display_name": "Python 3",
   "language": "python",
   "name": "python3"
  },
  "language_info": {
   "codemirror_mode": {
    "name": "ipython",
    "version": 3
   },
   "file_extension": ".py",
   "mimetype": "text/x-python",
   "name": "python",
   "nbconvert_exporter": "python",
   "pygments_lexer": "ipython3",
   "version": "3.8.5"
  }
 },
 "nbformat": 4,
 "nbformat_minor": 4
}
